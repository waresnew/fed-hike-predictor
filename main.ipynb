{
 "cells": [
  {
   "cell_type": "markdown",
   "source": [
    "We're going to use the dataset on [Kaggle](https://www.kaggle.com/datasets/federalreserve/interest-rates). It contains interest rate data since 1954. The federal funds rate is the interest rate at which banks trade federal funds overnight. The Fed sets a **target** for this, but due to the free market, the **effective** funds rate will be different. Since we're predicting the Fed's decision, we're going to predict the target rate.\n",
    "\n",
    "According to the dataset description:\n",
    "> The unemployment rate represents the number of unemployed as a seasonally adjusted percentage of the labor force. The inflation rate reflects the monthly change in the Consumer Price Index of products excluding food and energy."
   ],
   "metadata": {
    "collapsed": false
   },
   "id": "8201563f9b03dba5"
  },
  {
   "cell_type": "code",
   "execution_count": 1,
   "outputs": [],
   "source": [
    "import pandas as pd\n",
    "df = pd.read_csv('index.csv')"
   ],
   "metadata": {
    "collapsed": false,
    "ExecuteTime": {
     "start_time": "2023-09-22T00:31:08.721322800Z"
    }
   },
   "id": "9c0a21d8e9e857bc"
  },
  {
   "cell_type": "markdown",
   "source": [
    "First, let's see how many missing values we have."
   ],
   "metadata": {
    "collapsed": false
   },
   "id": "9e8420d316625d87"
  },
  {
   "cell_type": "code",
   "execution_count": 2,
   "outputs": [
    {
     "data": {
      "text/plain": "Year                              0\nMonth                             0\nDay                               0\nFederal Funds Target Rate       442\nFederal Funds Upper Target      801\nFederal Funds Lower Target      801\nEffective Federal Funds Rate    152\nReal GDP (Percent Change)       654\nUnemployment Rate               152\nInflation Rate                  194\ndtype: int64"
     },
     "execution_count": 2,
     "metadata": {},
     "output_type": "execute_result"
    }
   ],
   "source": [
    "df.isnull().sum()"
   ],
   "metadata": {
    "collapsed": false,
    "ExecuteTime": {
     "end_time": "2023-09-22T00:31:09.360820200Z",
     "start_time": "2023-09-22T00:31:09.355320900Z"
    }
   },
   "id": "f7a299ba26bbf66e"
  },
  {
   "cell_type": "markdown",
   "source": [
    "It looks like there are a lot of missing values in `Federal Funds Upper Target` and `Federal Funds Lower Target`. Since this range system was only adopted more recently, we can simply convert them back to single values by calculating their average. Also, there are way too many missing values in `Real GDP (Percent Change)` so we're just going to drop it."
   ],
   "metadata": {
    "collapsed": false
   },
   "id": "4a4f66f2d96d8e58"
  },
  {
   "cell_type": "code",
   "execution_count": 3,
   "outputs": [
    {
     "name": "stdout",
     "output_type": "stream",
     "text": [
      "   Year  Month  Day  Federal Funds Target Rate  Effective Federal Funds Rate  \\\n",
      "0  1954      7    1                        NaN                          0.80   \n",
      "1  1954      8    1                        NaN                          1.22   \n",
      "2  1954      9    1                        NaN                          1.06   \n",
      "3  1954     10    1                        NaN                          0.85   \n",
      "4  1954     11    1                        NaN                          0.83   \n",
      "\n",
      "   Unemployment Rate  Inflation Rate  Federal Funds Rate  \n",
      "0                5.8             NaN                 NaN  \n",
      "1                6.0             NaN                 NaN  \n",
      "2                6.1             NaN                 NaN  \n",
      "3                5.7             NaN                 NaN  \n",
      "4                5.3             NaN                 NaN  \n"
     ]
    }
   ],
   "source": [
    "df['Federal Funds Rate'] = (df['Federal Funds Upper Target'] + df['Federal Funds Lower Target']) / 2\n",
    "df = df.drop(['Federal Funds Upper Target', 'Federal Funds Lower Target', 'Real GDP (Percent Change)'], axis=1)\n",
    "print(df.head())"
   ],
   "metadata": {
    "collapsed": false,
    "ExecuteTime": {
     "end_time": "2023-09-22T00:47:07.304423Z",
     "start_time": "2023-09-22T00:47:07.222399500Z"
    }
   },
   "id": "233fdd070cef2431"
  },
  {
   "cell_type": "code",
   "execution_count": null,
   "outputs": [],
   "source": [],
   "metadata": {
    "collapsed": false
   },
   "id": "a7bf4fb0780ae898"
  }
 ],
 "metadata": {
  "kernelspec": {
   "display_name": "Python 3",
   "language": "python",
   "name": "python3"
  },
  "language_info": {
   "codemirror_mode": {
    "name": "ipython",
    "version": 2
   },
   "file_extension": ".py",
   "mimetype": "text/x-python",
   "name": "python",
   "nbconvert_exporter": "python",
   "pygments_lexer": "ipython2",
   "version": "2.7.6"
  }
 },
 "nbformat": 4,
 "nbformat_minor": 5
}
